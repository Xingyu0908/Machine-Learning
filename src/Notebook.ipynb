{
 "cells": [
  {
   "cell_type": "code",
   "execution_count": 48,
   "id": "30742479",
   "metadata": {},
   "outputs": [
    {
     "data": {
      "image/jpeg": "[encoded data removed]",
      "image/png": "[encoded data removed]",
      "text/plain": [
       "<PIL.Image.Image image mode=L size=28x28>"
      ]
     },
     "metadata": {},
     "output_type": "display_data"
    },
    {
     "name": "stdout",
     "output_type": "stream",
     "text": [
      "\u001b[1m1/1\u001b[0m \u001b[32m━━━━━━━━━━━━━━━━━━━━\u001b[0m\u001b[37m\u001b[0m \u001b[1m0s\u001b[0m 106ms/step\n",
      "8\n"
     ]
    }
   ],
   "source": [
    "from PIL import Image, ImageOps\n",
    "import numpy as np\n",
    "from IPython.display import display\n",
    "from scipy.ndimage import measurements\n",
    "import tensorflow as tf\n",
    "from func import convert_to_mnist_format_with_centering\n",
    "# load model\n",
    "model=tf.keras.models.load_model('../my_model.keras')\n",
    "\n",
    "# image preprocessig\n",
    "\n",
    "img = Image.open('../data/Eight.jpg').convert('L')\n",
    "shifted = convert_to_mnist_format_with_centering(img)\n",
    "\n",
    "\n",
    "# image crop\n",
    "# width,height=img.size\n",
    "# w = width // 4\n",
    "# for i in range(4):\n",
    "#     part = img.crop((i * w, 0, (i + 1) * w, height))\n",
    "\n",
    "#     shifted = convert_to_mnist_format_with_centering(part)\n",
    "\n",
    "#     display(shifted)\n",
    "    \n",
    "#     # expand channel\n",
    "#     shifted = np.array(shifted)\n",
    "#     shifted = shifted[..., tf.newaxis]\n",
    "#\n",
    "#     predictions = model.predict(tf.expand_dims(shifted, axis=0))\n",
    "#     print(predictions)\n",
    "\n",
    "\n",
    "display(shifted)\n",
    "    \n",
    "# expand channel\n",
    "shifted = np.array(shifted)\n",
    "shifted = shifted[..., tf.newaxis]\n",
    "    \n",
    "predictions = model.predict(tf.expand_dims(shifted, axis=0))\n",
    "print(np.argmax(predictions))\n"
   ]
  }
 ],
 "metadata": {
  "kernelspec": {
   "display_name": ".venv",
   "language": "python",
   "name": "python3"
  },
  "language_info": {
   "codemirror_mode": {
    "name": "ipython",
    "version": 3
   },
   "file_extension": ".py",
   "mimetype": "text/x-python",
   "name": "python",
   "nbconvert_exporter": "python",
   "pygments_lexer": "ipython3",
   "version": "3.13.6"
  }
 },
 "nbformat": 4,
 "nbformat_minor": 5
}
